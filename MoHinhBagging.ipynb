{
 "cells": [
  {
   "cell_type": "code",
   "execution_count": 1,
   "id": "4ad25c17",
   "metadata": {},
   "outputs": [],
   "source": [
    "#=========Data===========\n",
    "import csv\n",
    "import numpy as np\n",
    "import pandas as pd\n",
    "import matplotlib.pyplot as plt\n",
    "from sklearn.model_selection import train_test_split\n",
    "from sklearn.metrics import accuracy_score\n",
    "from sklearn.metrics import confusion_matrix\n",
    "from sklearn.preprocessing import MinMaxScaler, StandardScaler\n",
    "#=========Model==========\n",
    "from sklearn.naive_bayes import MultinomialNB\n",
    "from sklearn.tree import DecisionTreeClassifier\n",
    "from sklearn import tree\n",
    "from sklearn.ensemble import BaggingClassifier, AdaBoostClassifier, RandomForestClassifier\n",
    "\n",
    "#=======Đánh giá========\n",
    "from sklearn.model_selection import KFold\n",
    "from sklearn.metrics import ConfusionMatrixDisplay, precision_recall_fscore_support, precision_score, recall_score, f1_score, accuracy_score\n",
    "import time"
   ]
  },
  {
   "cell_type": "code",
   "execution_count": null,
   "id": "0b0c1de3",
   "metadata": {},
   "outputs": [
    {
     "name": "stdout",
     "output_type": "stream",
     "text": [
      "Kết quả đánh giá mô hình RandomForest:\n",
      "Accuracy:  0.7241\n",
      "F1-score:  0.7204\n",
      "Precision: 0.7216\n",
      "Recall:    0.7241\n",
      "Thời gian huấn luyện: 1059.7204 giây\n",
      "Thời gian test:       17.8341 giây\n"
     ]
    }
   ],
   "source": [
    "#Đọc dữ liệu từ file CSV\n",
    "df = pd.read_csv('data.csv')\n",
    "#Bỏ Cột ID\n",
    "if 'building_id' in df.columns:\n",
    "    df = df.drop(columns=['building_id'])\n",
    "\n",
    "#Chọn cột đặc trưng và nhãn\n",
    "X = df.drop(columns=['labels'])\n",
    "y = df['labels']\n",
    "\n",
    "#One-hot encoding cho cột đặc trưng\n",
    "X = pd.get_dummies(X)\n",
    "\n",
    "#Chia dữ liệu thành tập huấn luyện và tập kiểm tra\n",
    "X_train, X_test, y_train, y_test = train_test_split(X, y, test_size=0.2, random_state=42)\n",
    "\n",
    "#Chuẩn hóa dữ liệu\n",
    "scaler = StandardScaler()\n",
    "X_train = scaler.fit_transform(X_train)\n",
    "X_test = scaler.transform(X_test)\n",
    "\n",
    "#=========Model==========\n",
    "start_time = time.time()\n",
    "model = BaggingClassifier(\n",
    "    estimator=DecisionTreeClassifier(criterion='entropy', max_depth=50, random_state=42),\n",
    "    n_estimators=1000, random_state=42\n",
    ")\n",
    "model.fit(X_train, y_train)\n",
    "end_time = time.time()\n",
    "train_time = end_time - start_time\n",
    "\n",
    "#Dự đoán trên tập kiểm tra\n",
    "start_time = time.time()\n",
    "y_pred = model.predict(X_test)\n",
    "end_time = time.time()\n",
    "predict_time = end_time - start_time\n",
    "\n",
    "#Đánh giá mô hình\n",
    "accuracy = accuracy_score(y_test, y_pred)\n",
    "f1_score_value = f1_score(y_test, y_pred, average='weighted')\n",
    "precision = precision_score(y_test, y_pred, average='weighted')\n",
    "recall = recall_score(y_test, y_pred, average='weighted')\n",
    "\n",
    "#Hiển thị kết quả\n",
    "print(\"Kết quả đánh giá mô hình Bagging:\")\n",
    "print(f\"Accuracy:  {accuracy:.4f}\")\n",
    "print(f\"F1-score:  {f1_score_value:.4f}\")\n",
    "print(f\"Precision: {precision:.4f}\")\n",
    "print(f\"Recall:    {recall:.4f}\")\n",
    "print(f\"Thời gian huấn luyện: {train_time:.4f} giây\")\n",
    "print(f\"Thời gian test:       {predict_time:.4f} giây\")"
   ]
  }
 ],
 "metadata": {
  "kernelspec": {
   "display_name": ".venv",
   "language": "python",
   "name": "python3"
  },
  "language_info": {
   "codemirror_mode": {
    "name": "ipython",
    "version": 3
   },
   "file_extension": ".py",
   "mimetype": "text/x-python",
   "name": "python",
   "nbconvert_exporter": "python",
   "pygments_lexer": "ipython3",
   "version": "3.13.5"
  }
 },
 "nbformat": 4,
 "nbformat_minor": 5
}
